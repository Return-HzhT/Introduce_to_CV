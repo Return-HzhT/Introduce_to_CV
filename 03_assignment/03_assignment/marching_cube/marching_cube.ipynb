{
 "cells": [
  {
   "cell_type": "code",
   "execution_count": 1,
   "metadata": {},
   "outputs": [],
   "source": [
    "import numpy as np\n",
    "from lookup_table import CaseNum2EdgeOffset, getCaseNum\n",
    "import trimesh\n",
    "import os\n",
    "import time"
   ]
  },
  {
   "cell_type": "code",
   "execution_count": 2,
   "metadata": {},
   "outputs": [],
   "source": [
    "def marching_cube(thres,cells):\n",
    "    # vertices use dictionary to avoid duplicate axes\n",
    "    vertex_array = {}\n",
    "    face_array = []\n",
    "    t1 = time.time()\n",
    "    # -------------------TODO------------------ \n",
    "    # compute vertices and faces\n",
    "    # vertices: [N, 3]\n",
    "    # faces: [M, 3], e.g. np.array([[0,1,2]]) means a triangle composed of vertices[0], vertices[1] and vertices[2]\n",
    "    # for-loop is allowed to reduce difficulty\n",
    "    # -------------------TODO------------------ \n",
    "    def interpolation(x1,y1,z1,x2,y2,z2):\n",
    "        v1=cells[x1][y1][z1]\n",
    "        v2=cells[x2][y2][z2]\n",
    "        u=v1/(v1-v2)\n",
    "        xp=x1+u*(x2-x1)\n",
    "        yp=y1+u*(y2-y1)\n",
    "        zp=z1+u*(z2-z1)\n",
    "        return np.array([xp,yp,zp])\n",
    "    \n",
    "    x_len,y_len,z_len=cells.shape\n",
    "    vertex_cnt=0 # 点的索引数\n",
    "    face_three_cnt=0 # 记录是否找到一个面的三个点\n",
    "    face_vertex_lst=[0,0,0] # 滚动数组存储面的三个点的索引\n",
    "    axis2vertex_idx={} # 从边到点索引的字典\n",
    "\n",
    "    for x in range(x_len-1):\n",
    "        for y in range(y_len-1):\n",
    "            for z in range(z_len-1):\n",
    "                case_nums=getCaseNum(x,y,z,thres,cells)\n",
    "                for case_num in case_nums:\n",
    "                    if case_num!=-1:\n",
    "                        x1=x+CaseNum2EdgeOffset[case_num][0]\n",
    "                        y1=y+CaseNum2EdgeOffset[case_num][1]\n",
    "                        z1=z+CaseNum2EdgeOffset[case_num][2]\n",
    "                        x2=x+CaseNum2EdgeOffset[case_num][3]\n",
    "                        y2=y+CaseNum2EdgeOffset[case_num][4]\n",
    "                        z2=z+CaseNum2EdgeOffset[case_num][5]\n",
    "                        axis=(x1,y1,z1,x2,y2,z2)\n",
    "                        if axis not in axis2vertex_idx:\n",
    "                            interaction_point=interpolation(x1,y1,z1,x2,y2,z2)\n",
    "                            vertex_array[vertex_cnt]=interaction_point\n",
    "                            axis2vertex_idx[axis]=vertex_cnt\n",
    "                            vertex_cnt+=1\n",
    "                        face_vertex_lst[face_three_cnt]=axis2vertex_idx[axis]\n",
    "                        face_three_cnt+=1\n",
    "                        if face_three_cnt==3:\n",
    "                            face_array.append([face_vertex_lst[0],face_vertex_lst[1],face_vertex_lst[2]])\n",
    "                            face_three_cnt=0\n",
    "    t2 = time.time()\n",
    "    print(\"\\nTime taken by algorithm\\n\"+'-'*40+\"\\n{} s\".format(t2-t1))\n",
    "    vertex_array = list(vertex_array.values())\n",
    "    return np.array(vertex_array), np.array(face_array)"
   ]
  },
  {
   "cell_type": "code",
   "execution_count": 3,
   "metadata": {},
   "outputs": [
    {
     "name": "stdout",
     "output_type": "stream",
     "text": [
      "\n",
      "Time taken by algorithm\n",
      "----------------------------------------\n",
      "4.312490463256836 s\n",
      "\n",
      "Time taken by algorithm\n",
      "----------------------------------------\n",
      "4.345934629440308 s\n"
     ]
    }
   ],
   "source": [
    "# reconstruct these two animals\n",
    "shape_name_lst = ['spot', 'bob']\n",
    "for shape_name in shape_name_lst:\n",
    "    data = np.load(os.path.join('data', shape_name + '_cell.npy'))\n",
    "    verts, faces = marching_cube(0, data)\n",
    "    mesh = trimesh.Trimesh(vertices=verts, faces=faces)\n",
    "    mesh_txt = trimesh.exchange.obj.export_obj(mesh)\n",
    "    with open(os.path.join('../results', shape_name + '.obj'),\"w\") as fp:\n",
    "        fp.write(mesh_txt)"
   ]
  }
 ],
 "metadata": {
  "interpreter": {
   "hash": "436b5965732ccf282764bcf9546f770885eff9f048ad24ec0c34e8c61e883580"
  },
  "kernelspec": {
   "display_name": "Python 3.7.4 ('base')",
   "language": "python",
   "name": "python3"
  },
  "language_info": {
   "codemirror_mode": {
    "name": "ipython",
    "version": 3
   },
   "file_extension": ".py",
   "mimetype": "text/x-python",
   "name": "python",
   "nbconvert_exporter": "python",
   "pygments_lexer": "ipython3",
   "version": "3.9.1"
  },
  "orig_nbformat": 4
 },
 "nbformat": 4,
 "nbformat_minor": 2
}
