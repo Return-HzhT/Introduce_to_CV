{
 "cells": [
  {
   "cell_type": "code",
   "execution_count": 1,
   "metadata": {},
   "outputs": [],
   "source": [
    "import numpy as np\n",
    "import trimesh\n",
    "import tqdm \n",
    "import random"
   ]
  },
  {
   "cell_type": "code",
   "execution_count": 2,
   "metadata": {},
   "outputs": [],
   "source": [
    "def uniform_sampling_from_mesh(vertices, faces, sample_num):\n",
    "    # -------- TODO -----------\n",
    "    # 1. compute area of each triangles\n",
    "    # 2. compute probability of each triangles from areas\n",
    "    # 3. sample N faces according to the probability\n",
    "    # 4. for each face, sample 1 point\n",
    "    # Note that FOR-LOOP is not allowed!\n",
    "    # -------- TODO -----------\n",
    "    points=vertices[faces]\n",
    "    p1=points[:,0,:]\n",
    "    p2=points[:,1,:]\n",
    "    p3=points[:,2,:]\n",
    "\n",
    "    # 海伦公式\n",
    "    a=np.sqrt(np.sum((p1-p2)**2,axis=1))\n",
    "    b=np.sqrt(np.sum((p1-p3)**2,axis=1))\n",
    "    c=np.sqrt(np.sum((p2-p3)**2,axis=1))\n",
    "    p=(a+b+c)/2\n",
    "    area=np.sqrt(p*(p-a)*(p-b)*(p-c))\n",
    "\n",
    "    tot_area=np.sum(area)\n",
    "    prob=area/tot_area\n",
    "\n",
    "    idx_lst=list(range(faces.shape[0]))\n",
    "    sample_lst=random.choices(idx_lst,weights=prob,k=sample_num)\n",
    "\n",
    "    r1=np.random.uniform(low=0,high=1,size=(sample_num,1))\n",
    "    r2=np.random.uniform(low=0,high=1,size=(sample_num,1))\n",
    "\n",
    "    p1=p1[sample_lst]\n",
    "    p2=p2[sample_lst]\n",
    "    p3=p3[sample_lst]\n",
    "    uniform_pc=(1-np.sqrt(r1))*p1+np.sqrt(r1)*(1-r2)*p2+np.sqrt(r1)*r2*p3\n",
    "    return area, prob, uniform_pc"
   ]
  },
  {
   "cell_type": "code",
   "execution_count": 3,
   "metadata": {},
   "outputs": [],
   "source": [
    "def farthest_point_sampling(pc, sample_num):\n",
    "    # -------- TODO -----------\n",
    "    # FOR LOOP is allowed here.\n",
    "    # -------- TODO -----------\n",
    "    n=pc.shape[0]\n",
    "    res=[]\n",
    "    init_idx=random.randint(0,n)\n",
    "    res.append(init_idx)\n",
    "    dis=np.full((n,),np.inf)\n",
    "    pre_idx=init_idx\n",
    "\n",
    "    cnt=1\n",
    "    while cnt<sample_num:\n",
    "        max_idx=-1\n",
    "        max_dis=-1\n",
    "        for i in range(n):\n",
    "            t_dis=np.sqrt(np.sum((pc[i]-pc[res[-1]])**2))\n",
    "            if t_dis<dis[i]:\n",
    "                dis[i]=t_dis\n",
    "        max_idx=np.argmax(dis)\n",
    "        res.append(max_idx)\n",
    "        pre_idx=max_idx\n",
    "        cnt+=1\n",
    "        \n",
    "    results=pc[res]\n",
    "    return results"
   ]
  },
  {
   "cell_type": "code",
   "execution_count": 4,
   "metadata": {},
   "outputs": [
    {
     "name": "stdout",
     "output_type": "stream",
     "text": [
      "faces shape:  (13712, 3)\n",
      "area shape:  (13712,)\n",
      "prob shape:  (13712,)\n",
      "pc shape:  (512, 3)\n"
     ]
    }
   ],
   "source": [
    "# task 1: uniform sampling \n",
    "\n",
    "obj_path = 'spot.obj'\n",
    "mesh = trimesh.load(obj_path)\n",
    "print('faces shape: ', mesh.faces.shape)\n",
    "sample_num = 512\n",
    "area, prob, uniform_pc = uniform_sampling_from_mesh(mesh.vertices, mesh.faces, sample_num)\n",
    "\n",
    "# Visualization. For you to check your code\n",
    "np.savetxt('uniform_sampling_vis.txt', uniform_pc)\n",
    "\n",
    "print('area shape: ',area.shape)\n",
    "print('prob shape: ',prob.shape)\n",
    "print('pc shape: ',uniform_pc.shape)\n",
    "# the result should satisfy: \n",
    "#       area.shape = (13712, ) \n",
    "#       prob.shape = (13712, ) \n",
    "#       uniform_pc.shape = (512, 3) \n",
    "\n",
    "# For submission\n",
    "save_dict = {'area': area, 'prob': prob, 'pc': uniform_pc}\n",
    "np.save('../results/uniform_sampling_results', save_dict)"
   ]
  },
  {
   "cell_type": "code",
   "execution_count": 5,
   "metadata": {},
   "outputs": [],
   "source": [
    "# task 2: FPS\n",
    "\n",
    "init_sample_num = 2000\n",
    "final_sample_num = 512\n",
    "_,_, tmp_pc = uniform_sampling_from_mesh(mesh.vertices, mesh.faces, init_sample_num)\n",
    "fps_pc = farthest_point_sampling(tmp_pc, final_sample_num)\n",
    "\n",
    "# Visualization. For you to check your code\n",
    "np.savetxt('fps_vis.txt', fps_pc)\n",
    "\n",
    "# For submission\n",
    "np.save('../results/fps_results', fps_pc)"
   ]
  },
  {
   "cell_type": "code",
   "execution_count": 6,
   "metadata": {},
   "outputs": [
    {
     "name": "stdout",
     "output_type": "stream",
     "text": [
      "[1.384855717419243, 1.3689680156506239, 1.3854134749137197, 1.3919746171143739, 1.374982591422476]\n",
      "[2.6308866862762157, 2.1324462870232312, 2.7883147307123757, 2.0728163994016144, 2.4573023320115284]\n",
      "1.3812388833040874 6.709601312916562e-05\n",
      "2.416353287084993 0.07693549941551078\n"
     ]
    }
   ],
   "source": [
    "# task 3: metrics\n",
    "\n",
    "from earthmover.earthmover import earthmover_distance   # EMD may be very slow (1~2mins)\n",
    "# -----------TODO---------------\n",
    "# compute chamfer distance and EMD for two point clouds sampled by uniform sampling and FPS.\n",
    "# sample and compute CD and EMD again. repeat for five times.\n",
    "# save the mean and var.\n",
    "# -----------TODO---------------\n",
    "\n",
    "\n",
    "CD_mean = 0\n",
    "CD_var = 0\n",
    "EMD_mean = 0\n",
    "EMD_var = 0\n",
    "\n",
    "\n",
    "def chamfer_distance(pc1,pc2):\n",
    "    cd=0\n",
    "    n1,n2=pc1.shape[0],pc2.shape[0]\n",
    "    arr1=np.tile(pc1,(n2,1))\n",
    "    arr2=np.repeat(pc2,n1,axis=0)\n",
    "    dis=np.sqrt(np.sum((arr1-arr2)**2,axis=1)).reshape(n2,n1)\n",
    "    dis1=np.mean(np.min(dis,axis=0))\n",
    "    dis2=np.mean(np.min(dis,axis=1))\n",
    "    return (dis1+dis2)/2 # 除以二以和EMD比较\n",
    "\n",
    "CD=[]\n",
    "CD_test=[]\n",
    "EMD=[]\n",
    "init_sample_num=2000\n",
    "final_sample_num=512\n",
    "for i in range(5):\n",
    "    _,_,pc1 = uniform_sampling_from_mesh(mesh.vertices, mesh.faces, final_sample_num)\n",
    "    _,_,tmp_pc = uniform_sampling_from_mesh(mesh.vertices, mesh.faces, init_sample_num)\n",
    "    pc2 = farthest_point_sampling(tmp_pc, final_sample_num)\n",
    "    CD.append(chamfer_distance(pc1,pc2))\n",
    "    EMD.append(earthmover_distance(pc1,pc2))\n",
    "\n",
    "CD_mean=np.mean(CD)\n",
    "CD_var=np.var(CD)\n",
    "EMD_mean=np.mean(EMD)\n",
    "EMD_var=np.var(EMD)\n",
    "\n",
    "print(CD)\n",
    "print(EMD)\n",
    "print(CD_mean,CD_var)\n",
    "print(EMD_mean,EMD_var)\n",
    "\n",
    "# For submission\n",
    "np.save('../results/metrics', {'CD_mean':CD_mean, 'CD_var':CD_var, 'EMD_mean':EMD_mean, 'EMD_var':EMD_var})"
   ]
  }
 ],
 "metadata": {
  "interpreter": {
   "hash": "b99e030e7d8517218fe5297eb937f74701cfa6fd19eb7299fb48d65d491617c9"
  },
  "kernelspec": {
   "display_name": "Python 3.7.11 ('h2o')",
   "language": "python",
   "name": "python3"
  },
  "language_info": {
   "codemirror_mode": {
    "name": "ipython",
    "version": 3
   },
   "file_extension": ".py",
   "mimetype": "text/x-python",
   "name": "python",
   "nbconvert_exporter": "python",
   "pygments_lexer": "ipython3",
   "version": "3.9.1"
  },
  "orig_nbformat": 4
 },
 "nbformat": 4,
 "nbformat_minor": 2
}
